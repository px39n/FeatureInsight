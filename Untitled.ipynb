{
 "cells": [
  {
   "cell_type": "code",
   "execution_count": 3,
   "id": "cb53164d-e228-4383-a5ba-4afddf0aa415",
   "metadata": {},
   "outputs": [],
   "source": [
    "from FeatureInsight import struct_Investigation\n"
   ]
  },
  {
   "cell_type": "code",
   "execution_count": 4,
   "id": "2c6e02b2-0ffc-4504-b4bb-54fbd3465a8d",
   "metadata": {},
   "outputs": [
    {
     "data": {
      "text/plain": [
       "<function FeatureInsight.structure_Investigation.struct_Investigation(df)>"
      ]
     },
     "execution_count": 4,
     "metadata": {},
     "output_type": "execute_result"
    }
   ],
   "source": []
  },
  {
   "cell_type": "code",
   "execution_count": null,
   "id": "451e17dc-3601-4b0a-af2b-56ea40e1bd9a",
   "metadata": {},
   "outputs": [],
   "source": []
  }
 ],
 "metadata": {
  "kernelspec": {
   "display_name": "Python 3 (ipykernel)",
   "language": "python",
   "name": "python3"
  },
  "language_info": {
   "codemirror_mode": {
    "name": "ipython",
    "version": 3
   },
   "file_extension": ".py",
   "mimetype": "text/x-python",
   "name": "python",
   "nbconvert_exporter": "python",
   "pygments_lexer": "ipython3",
   "version": "3.9.13"
  }
 },
 "nbformat": 4,
 "nbformat_minor": 5
}
